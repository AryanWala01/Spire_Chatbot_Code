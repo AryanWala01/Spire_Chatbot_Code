{
 "cells": [
  {
   "cell_type": "code",
   "execution_count": 0,
   "metadata": {
    "application/vnd.databricks.v1+cell": {
     "cellMetadata": {
      "byteLimit": 2048000,
      "rowLimit": 10000
     },
     "inputWidgets": {},
     "nuid": "e1633119-3011-484f-8572-135d561c4a70",
     "showTitle": false,
     "tableResultSettingsMap": {},
     "title": ""
    }
   },
   "outputs": [],
   "source": [
    "# Comment the below for manual Run\n",
    "# SRC_TASK_KEY = \"Getting_Sharepoint_Data\"\n",
    "\n",
    "# # Try to get the values, fallback to None if not in a job or values are missing\n",
    "# try:\n",
    "#     token = dbutils.jobs.taskValues.get(taskKey=SRC_TASK_KEY, key=\"access_token\", debugValue=None)\n",
    "#     site_id = dbutils.jobs.taskValues.get(taskKey=SRC_TASK_KEY, key=\"site_id\", debugValue=None)\n",
    "#     drive_id = dbutils.jobs.taskValues.get(taskKey=SRC_TASK_KEY, key=\"drive_id\", debugValue=None)\n",
    "# except Exception as e:\n",
    "#     print(\"Failed to fetch values from previous task:\", e)\n",
    "#     token = site_id = drive_id = None\n"
   ]
  },
  {
   "cell_type": "code",
   "execution_count": 0,
   "metadata": {
    "application/vnd.databricks.v1+cell": {
     "cellMetadata": {
      "byteLimit": 2048000,
      "rowLimit": 10000
     },
     "inputWidgets": {},
     "nuid": "4a0d5121-f480-4407-9705-d52a43cf263d",
     "showTitle": true,
     "tableResultSettingsMap": {},
     "title": "Uncomment this for manual run"
    }
   },
   "outputs": [],
   "source": [
    "%run ./01-SharepointAccess"
   ]
  },
  {
   "cell_type": "code",
   "execution_count": 0,
   "metadata": {
    "application/vnd.databricks.v1+cell": {
     "cellMetadata": {
      "byteLimit": 2048000,
      "rowLimit": 10000
     },
     "inputWidgets": {},
     "nuid": "839386e4-54ba-4c08-b31b-fba703d4da22",
     "showTitle": false,
     "tableResultSettingsMap": {},
     "title": ""
    }
   },
   "outputs": [],
   "source": [
    "%run ../Main_Config"
   ]
  },
  {
   "cell_type": "code",
   "execution_count": 0,
   "metadata": {
    "application/vnd.databricks.v1+cell": {
     "cellMetadata": {
      "byteLimit": 2048000,
      "rowLimit": 10000
     },
     "inputWidgets": {},
     "nuid": "15092a97-3a12-45b7-8327-4b13991cd535",
     "showTitle": false,
     "tableResultSettingsMap": {},
     "title": ""
    }
   },
   "outputs": [],
   "source": [
    "# Uncomment for Manual Run\n",
    "site_id = get_site_id()\n",
    "drive_id = get_drive_id()\n",
    "token = get_access_token()"
   ]
  },
  {
   "cell_type": "code",
   "execution_count": 0,
   "metadata": {
    "application/vnd.databricks.v1+cell": {
     "cellMetadata": {
      "byteLimit": 2048000,
      "rowLimit": 10000
     },
     "inputWidgets": {},
     "nuid": "123162bb-2ec5-4424-a5f9-933dcd1d4686",
     "showTitle": false,
     "tableResultSettingsMap": {},
     "title": ""
    }
   },
   "outputs": [],
   "source": [
    "import requests\n",
    "from pyspark.sql import SparkSession\n",
    "from pyspark.sql.types import StructType, StructField, StringType, TimestampType\n",
    "from datetime import datetime\n",
    "\n",
    "# # Placeholder functions for obtaining authentication token, site ID, and drive ID\n",
    "def list_drive_items(folder_id=None):\n",
    "    \"\"\"\n",
    "    Recursively retrieves all file items (excluding folders) in the specified SharePoint drive.\n",
    "    \"\"\"\n",
    "    headers = {\"Authorization\": f\"Bearer {token}\"}\n",
    "    items = []\n",
    "    \n",
    "    endpoint = microsoft_graph_url + f\"{site_id}\" + drive_path + f\"{drive_id}\" + root_path if not folder_id else microsoft_graph_url + f\"{site_id}\" + drive_path + f\"{drive_id}\" + item_path + f\"{folder_id}\" + children_path\n",
    "\n",
    "    while endpoint:\n",
    "        response = requests.get(endpoint, headers=headers)\n",
    "        if response.status_code == 404:\n",
    "            logger.error(f\"404 Not Found: Folder not found at URL '{url}'\")\n",
    "            return\n",
    "        \n",
    "        if response.status_code == 200:\n",
    "            data = response.json()\n",
    "            for item in data.get('value', []):\n",
    "                if 'folder' not in item:  # Exclude folders\n",
    "                    items.append(item)\n",
    "                else:\n",
    "                    # Recursively retrieve items in subfolders\n",
    "                    items.extend(list_drive_items(item['id']))\n",
    "            endpoint = data.get('@odata.nextLink', None)\n",
    "        else:\n",
    "            logger.error(f\"Error retrieving items: {response.status_code} - {response.text}\")\n",
    "            break\n",
    "\n",
    "    return items\n",
    "\n",
    "\n",
    "def get_item_permissions(item_id):\n",
    "    \"\"\"\n",
    "    Retrieves permissions for a specific item in the SharePoint drive.\n",
    "    \"\"\"\n",
    "    headers = {\"Authorization\": f\"Bearer {token}\"}\n",
    "    permissions = []\n",
    "    endpoint = microsoft_graph_url + f\"{site_id}\" + drive_path + f\"{drive_id}\" + item_path + f\"{item_id}\" + permissions_path\n",
    "\n",
    "    while endpoint:\n",
    "        response = requests.get(endpoint, headers=headers)\n",
    "\n",
    "        if response.status_code == 404:\n",
    "            logger.error(f\"404 Not Found: Folder not found at URL '{url}'\")\n",
    "            return\n",
    "        \n",
    "        if response.status_code == 200:\n",
    "            data = response.json()\n",
    "            permissions.extend(data.get('value', []))\n",
    "            endpoint = data.get('@odata.nextLink', None)\n",
    "        else:\n",
    "            logger.error(f\"Error retrieving permissions for item {item_id}: {response.status_code} - {response.text}\")\n",
    "            break\n",
    "\n",
    "    return permissions\n",
    "\n",
    "def fetch_permissions_data():\n",
    "    \"\"\"\n",
    "    Main function to fetch permissions data for all items in the SharePoint drive.\n",
    "    # \"\"\"\n",
    "\n",
    "    items = list_drive_items()\n",
    "    permissions_data = []\n",
    "\n",
    "    for item in items:\n",
    "        item_id = item.get('id')\n",
    "        item_name = item.get('name')\n",
    "        created_datetime = datetime.strptime(item.get('createdDateTime'), \"%Y-%m-%dT%H:%M:%SZ\")\n",
    "        last_modified_datetime = datetime.strptime(item.get('lastModifiedDateTime'), \"%Y-%m-%dT%H:%M:%SZ\")\n",
    "        permissions = get_item_permissions(item_id)\n",
    "\n",
    "        for perm in permissions:\n",
    "            roles = perm.get('roles', [])\n",
    "\n",
    "            # Get user details\n",
    "            users = perm.get(\"grantedToIdentitiesV2\")  # List of users\n",
    "\n",
    "            if users:\n",
    "                list_of_users_email = [user.get('user', {}).get('email', None) for user in users]\n",
    "                list_of_users_name = [user.get('user', {}).get('displayName', None) for user in users]\n",
    "            else:\n",
    "                # Fallback to grantedToV2 if grantedToIdentitiesV2 is missing\n",
    "                granted_to = perm.get('grantedToV2', {}).get('user', {}) or perm.get('grantedToV2', {}).get('siteUser', {})\n",
    "                list_of_users_email = [granted_to.get('email', None)]\n",
    "                list_of_users_name = [granted_to.get('displayName', None)]\n",
    "\n",
    "            # Store multiple user permissions\n",
    "            for role in roles:\n",
    "                for email, name in zip(list_of_users_email, list_of_users_name):\n",
    "                    permissions_data.append({\n",
    "                        COL_FILE_ID: item_id,\n",
    "                        COL_FILE_NAME: item_name,\n",
    "                        COL_PERMISSION: role,\n",
    "                        COL_USER_ID: email,  # Using email as user_id\n",
    "                        COL_USER_NAME: name,\n",
    "                        COL_LAST_MODIFIED_DATETIME: last_modified_datetime,\n",
    "                        COL_CREATED_DATETIME: created_datetime,\n",
    "                        COL_LOAD_DATETIME : datetime.utcnow()\n",
    "                    })         \n",
    "                    \n",
    "    return permissions_data\n",
    "\n",
    "# Fetch permissions data\n",
    "permissions_list = fetch_permissions_data()\n",
    "\n",
    "# Define the schema for the DataFrame\n",
    "schema = StructType([\n",
    "    StructField(COL_FILE_ID, StringType(), True),\n",
    "    StructField(COL_FILE_NAME, StringType(), True),\n",
    "    StructField(COL_PERMISSION, StringType(), True),\n",
    "    StructField(COL_USER_ID, StringType(), True),\n",
    "    StructField(COL_USER_NAME, StringType(), True),\n",
    "    StructField(COL_LAST_MODIFIED_DATETIME, TimestampType(), True),\n",
    "    StructField(COL_CREATED_DATETIME, TimestampType(), True),\n",
    "    StructField(COL_LOAD_DATETIME, TimestampType(), True)\n",
    "])\n",
    "\n",
    "# Create DataFrame\n",
    "permissions_df = spark.createDataFrame(permissions_list, schema=schema)\n",
    "\n",
    "# Droping null values\n",
    "permissions_df = permissions_df.dropna()\n",
    "\n",
    "# Optionally, write the DataFrame to a table\n",
    "permissions_df.write.mode(\"overwrite\").option(\"mergeSchema\", \"true\").saveAsTable(user_permission_path)"
   ]
  }
 ],
 "metadata": {
  "application/vnd.databricks.v1+notebook": {
   "computePreferences": null,
   "dashboards": [],
   "environmentMetadata": {
    "base_environment": "",
    "environment_version": "2"
   },
   "inputWidgetPreferences": null,
   "language": "python",
   "notebookMetadata": {
    "pythonIndentUnit": 4
   },
   "notebookName": "03-RetriveUserPermissionsSharepoint",
   "widgets": {}
  },
  "language_info": {
   "name": "python"
  }
 },
 "nbformat": 4,
 "nbformat_minor": 0
}
