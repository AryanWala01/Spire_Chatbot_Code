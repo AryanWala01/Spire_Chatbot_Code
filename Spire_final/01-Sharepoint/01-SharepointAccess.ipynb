{
 "cells": [
  {
   "cell_type": "code",
   "execution_count": 0,
   "metadata": {
    "application/vnd.databricks.v1+cell": {
     "cellMetadata": {
      "byteLimit": 2048000,
      "rowLimit": 10000
     },
     "inputWidgets": {},
     "nuid": "2d2e911b-565a-4f26-a61d-b3cbe7247f49",
     "showTitle": true,
     "tableResultSettingsMap": {},
     "title": "Install Dependencies and Restart Python Environment"
    }
   },
   "outputs": [],
   "source": [
    "%pip install -U -q -r ../requirements.txt\n",
    "dbutils.library.restartPython()"
   ]
  },
  {
   "cell_type": "code",
   "execution_count": 0,
   "metadata": {
    "application/vnd.databricks.v1+cell": {
     "cellMetadata": {
      "byteLimit": 2048000,
      "implicitDf": true,
      "rowLimit": 10000
     },
     "inputWidgets": {},
     "nuid": "a49088ff-45d4-472b-ad83-5594ff558b7b",
     "showTitle": false,
     "tableResultSettingsMap": {},
     "title": ""
    }
   },
   "outputs": [],
   "source": [
    "%run ../Main_Config"
   ]
  },
  {
   "cell_type": "code",
   "execution_count": 0,
   "metadata": {
    "application/vnd.databricks.v1+cell": {
     "cellMetadata": {
      "byteLimit": 2048000,
      "rowLimit": 10000
     },
     "inputWidgets": {},
     "nuid": "62cc2771-2aa1-4be8-976d-f783713edff0",
     "showTitle": true,
     "tableResultSettingsMap": {},
     "title": "Extract SharePoint Domain, Site, and Drive ID"
    }
   },
   "outputs": [],
   "source": [
    "#Getting all the sharepoint details\n",
    "from urllib.parse import urlparse, parse_qs, unquote\n",
    "import requests\n",
    "import json\n",
    "from pyspark.sql.functions import col\n",
    "\n",
    "\n",
    "def extract_sharepoint_domain_and_path(sharepoint_url:str):\n",
    "    \"\"\"\n",
    "    Parses a SharePoint URL to extract the domain and site path.\n",
    "\n",
    "    Parameters:\n",
    "    - sharepoint_url (str): Full SharePoint URL (e.g., from web or API)\n",
    "\n",
    "    Returns:\n",
    "    - tuple: (SHAREPOINT_DOMAIN, SITE_PATH) or (None, None) on failure\n",
    "    \"\"\"\n",
    "    try:\n",
    "        # Parse the SharePoint URL\n",
    "        parsed_url = urlparse(sharepoint_url)\n",
    "        SHAREPOINT_DOMAIN = parsed_url.netloc\n",
    "\n",
    "        # Extract Site Path from Query Parameters\n",
    "        query_params = parse_qs(parsed_url.query)\n",
    "        site_path_encoded = query_params.get(\"id\", [\"\"])[0]\n",
    "\n",
    "        # Decode percent-encoded characters\n",
    "        site_path_decoded = unquote(site_path_encoded)\n",
    "\n",
    "        # Trim the path to just the site root (e.g., \"/sites/mysite\")\n",
    "        SITE_PATH = \"/\".join(site_path_decoded.split(\"/\")[:3])\n",
    "\n",
    "        logger.info(f\"SHAREPOINT_DOMAIN: {SHAREPOINT_DOMAIN}\")\n",
    "        logger.info(f\"SITE_PATH: {SITE_PATH}\")\n",
    "\n",
    "        return SHAREPOINT_DOMAIN, SITE_PATH\n",
    "\n",
    "    except KeyError as ke:\n",
    "        logger.error(f\"Key error while parsing URL: {ke}\", exc_info=True)\n",
    "        return None, None\n",
    "    except ValueError as ve:\n",
    "        logger.error(f\"Value error: {ve}\", exc_info=True)\n",
    "        return None, None\n",
    "    except Exception as e:\n",
    "        logger.error(f\"Unexpected error while parsing SharePoint URL: {e}\", exc_info=True)\n",
    "        return None, None\n",
    "\n",
    "#getting access tokens from the url\n",
    "SHAREPOINT_DOMAIN,SITE_PATH =  extract_sharepoint_domain_and_path(sharepoint_url = SHAREPOINT_URL)\n",
    " \n",
    "AUTH_URL = authentication_url\n",
    "\n",
    "def get_access_token():\n",
    "    \"\"\"\n",
    "    Requests an OAuth2 token using client credentials to access Microsoft Graph API.\n",
    "\n",
    "    Returns:\n",
    "    - str: Access token string if successful\n",
    "    - None: If request fails\n",
    "    \"\"\"\n",
    "    try:\n",
    "        data = {\n",
    "            \"grant_type\": \"client_credentials\",\n",
    "            \"client_id\": CLIENT_ID,\n",
    "            \"client_secret\": CLIENT_SECRET,\n",
    "            \"scope\": microsoft_graph_default\n",
    "        }\n",
    "        response = requests.post(AUTH_URL, data=data) #sends post request to auth_url\n",
    "        response.raise_for_status()\n",
    "        return response.json()[\"access_token\"]\n",
    "   \n",
    "    except requests.exceptions.RequestException as e:\n",
    "        logger.error(f\"Error fetching access token: {e}\", exc_info=True)\n",
    "        return None  # Return None in case of failure\n",
    "\n",
    "#getting sharepoint site id with OAuth Token\n",
    "def get_site_id():\n",
    "    \"\"\"\n",
    "    Fetches the SharePoint site ID using the domain and site path via Microsoft Graph API.\n",
    "\n",
    "    Returns:\n",
    "    - str: Site ID if successful\n",
    "    - None: If request fails\n",
    "    \"\"\"\n",
    "    try:\n",
    "        token = get_access_token() #get OAuth token\n",
    "        headers = {\"Authorization\": f\"Bearer {token}\"}\n",
    "       \n",
    "        SITE_URL = microsoft_graph_url + f\"{SHAREPOINT_DOMAIN}\" + site_url_second + f\"{SITE_PATH}\"\n",
    "\n",
    "        response = requests.get(SITE_URL, headers=headers) # get request to fetch sharepoint site data\n",
    "        response.raise_for_status()\n",
    "       \n",
    "        site_data = response.json()\n",
    "      \n",
    "        return site_data[\"id\"]\n",
    "   \n",
    "    except requests.exceptions.RequestException as e:\n",
    "        logger.error(f\"Error fetching access token: {e}\", exc_info=True)\n",
    "        return None  # Return None in case of failure\n",
    "\n",
    "#Fetch Drive ID from Sharepoint using OAuth Token\n",
    "def get_drive_id():\n",
    "    \"\"\"\n",
    "    Retrieves the default drive ID associated with a SharePoint site using the site ID.\n",
    "\n",
    "    Returns:\n",
    "    - str: Drive ID if successful\n",
    "    - None: If request fails\n",
    "    \"\"\"\n",
    "    try:\n",
    "        site_id = get_site_id()\n",
    "        token = get_access_token()\n",
    "        headers = {\"Authorization\": f\"Bearer {token}\"}\n",
    "       \n",
    "        DRIVE_URL = microsoft_graph_url + f\"{site_id}\" + drive_url_second\n",
    "\n",
    "        response = requests.get(DRIVE_URL, headers=headers)\n",
    "        response.raise_for_status()\n",
    "        drive_data = response.json()[\"value\"]\n",
    "        return drive_data[0][\"id\"]\n",
    "    \n",
    "    except requests.exceptions.RequestException as e:\n",
    "        logger.error(f\"Error fetching access token: {e}\", exc_info=True)\n",
    "        return None  # Return None in case of failure"
   ]
  },
  {
   "cell_type": "code",
   "execution_count": 0,
   "metadata": {
    "application/vnd.databricks.v1+cell": {
     "cellMetadata": {
      "byteLimit": 2048000,
      "rowLimit": 10000
     },
     "inputWidgets": {},
     "nuid": "e9a5ec4c-5d5a-48ed-9792-07c4ed828a99",
     "showTitle": false,
     "tableResultSettingsMap": {},
     "title": ""
    }
   },
   "outputs": [],
   "source": [
    "#For passing values between tasks\n",
    "token = get_access_token()\n",
    "site_id = get_site_id()\n",
    "drive_id = get_drive_id()\n",
    "try:\n",
    "    dbutils.jobs.taskValues.set(key=\"access_token\", value=token)\n",
    "    dbutils.jobs.taskValues.set(key=\"site_id\", value=site_id)\n",
    "    dbutils.jobs.taskValues.set(key=\"drive_id\", value=drive_id)\n",
    "# dbutils.jobs.taskValues.set(key=\"logger\", value=logger) not possible \n",
    "except:\n",
    "    logger.error(\"Error setting task values\")"
   ]
  }
 ],
 "metadata": {
  "application/vnd.databricks.v1+notebook": {
   "computePreferences": null,
   "dashboards": [],
   "environmentMetadata": {
    "base_environment": "",
    "environment_version": "2"
   },
   "inputWidgetPreferences": null,
   "language": "python",
   "notebookMetadata": {
    "mostRecentlyExecutedCommandWithImplicitDF": {
     "commandId": 3777696204863087,
     "dataframes": [
      "_sqldf"
     ]
    },
    "pythonIndentUnit": 4
   },
   "notebookName": "01-SharepointAccess",
   "widgets": {}
  },
  "language_info": {
   "name": "python"
  }
 },
 "nbformat": 4,
 "nbformat_minor": 0
}
