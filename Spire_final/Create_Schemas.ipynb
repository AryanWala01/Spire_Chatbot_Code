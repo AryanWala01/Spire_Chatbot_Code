{
 "cells": [
  {
   "cell_type": "code",
   "execution_count": 0,
   "metadata": {
    "application/vnd.databricks.v1+cell": {
     "cellMetadata": {},
     "inputWidgets": {},
     "nuid": "fed7c9f4-3dfe-49cd-be30-635aac0713e1",
     "showTitle": false,
     "tableResultSettingsMap": {},
     "title": ""
    }
   },
   "outputs": [],
   "source": [
    "%sql\n",
    "CREATE SCHEMA IF NOT EXISTS spire_catalog.spire_schema;\n",
    "CREATE SCHEMA IF NOT EXISTS spire_catalog.logging;\n",
    "CREATE VOLUME IF NOT EXISTS spire_catalog.default.temp_storage;\n",
    "\n",
    "CREATE TABLE IF NOT EXISTS spire_catalog.spire_schema.source_data (\n",
    "  file_id STRING,\n",
    "  file_location STRING,\n",
    "  file_name STRING,\n",
    "  content STRING,\n",
    "  created_datetime TIMESTAMP,\n",
    "  last_modified_datetime TIMESTAMP,\n",
    "  load_datetime TIMESTAMP\n",
    ");"
   ]
  }
 ],
 "metadata": {
  "application/vnd.databricks.v1+notebook": {
   "computePreferences": null,
   "dashboards": [],
   "environmentMetadata": {
    "base_environment": "",
    "environment_version": "2"
   },
   "inputWidgetPreferences": null,
   "language": "python",
   "notebookMetadata": {
    "pythonIndentUnit": 4
   },
   "notebookName": "Create_Schemas",
   "widgets": {}
  },
  "language_info": {
   "name": "python"
  }
 },
 "nbformat": 4,
 "nbformat_minor": 0
}
