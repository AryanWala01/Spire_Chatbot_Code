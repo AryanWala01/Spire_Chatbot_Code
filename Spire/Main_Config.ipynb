{
 "cells": [
  {
   "cell_type": "code",
   "execution_count": 0,
   "metadata": {
    "application/vnd.databricks.v1+cell": {
     "cellMetadata": {},
     "inputWidgets": {},
     "nuid": "c5cd3d7e-d161-403e-a273-dd1794e4faf6",
     "showTitle": false,
     "tableResultSettingsMap": {},
     "title": ""
    }
   },
   "outputs": [],
   "source": [
    "%run ./sql_query"
   ]
  },
  {
   "cell_type": "code",
   "execution_count": 0,
   "metadata": {
    "application/vnd.databricks.v1+cell": {
     "cellMetadata": {
      "byteLimit": 2048000,
      "rowLimit": 10000
     },
     "inputWidgets": {},
     "nuid": "c5645e50-1a4f-40b6-9afc-f0526da3498c",
     "showTitle": false,
     "tableResultSettingsMap": {},
     "title": ""
    }
   },
   "outputs": [],
   "source": [
    "%run ./00-Logging/DeltaTableHandler"
   ]
  },
  {
   "cell_type": "code",
   "execution_count": 0,
   "metadata": {
    "application/vnd.databricks.v1+cell": {
     "cellMetadata": {
      "byteLimit": 2048000,
      "rowLimit": 10000
     },
     "inputWidgets": {},
     "nuid": "adf1e622-7368-4bb0-947b-36f2e9164720",
     "showTitle": false,
     "tableResultSettingsMap": {},
     "title": ""
    }
   },
   "outputs": [],
   "source": [
    "# Initialize logger\n",
    "logger = setup_logger(delta_table_name=\"spire_catalog.logging.logs\")"
   ]
  },
  {
   "cell_type": "code",
   "execution_count": 0,
   "metadata": {
    "application/vnd.databricks.v1+cell": {
     "cellMetadata": {
      "byteLimit": 2048000,
      "rowLimit": 10000
     },
     "inputWidgets": {},
     "nuid": "2c5fa568-8b55-463e-8495-f780f22b8376",
     "showTitle": false,
     "tableResultSettingsMap": {},
     "title": ""
    }
   },
   "outputs": [],
   "source": [
    "# Variables used in sharepointAccess\n",
    "\n",
    "TENANT_ID = dbutils.secrets.get(scope = \"SHAREPOINT_CREDENTIALS\", key = \"TENANT_ID\")  \n",
    "CLIENT_ID = dbutils.secrets.get(scope = \"SHAREPOINT_CREDENTIALS\", key = \"CLIENT_ID\")\n",
    "CLIENT_SECRET = dbutils.secrets.get(scope = \"SHAREPOINT_CREDENTIALS\", key = \"CLIENT_SECRET\")\n",
    "SHAREPOINT_URL = dbutils.secrets.get(scope = \"SHAREPOINT_CREDENTIALS\", key = \"SHAREPOINT_URL\")\n",
    "\n",
    "temp_volume_path = \"/Volumes/spire_catalog/default/temp_storage/\" \n",
    "\n",
    "authentication_url = f\"https://login.microsoftonline.com/{TENANT_ID}/oauth2/v2.0/token\"\n",
    "\n",
    "microsoft_graph_default = \"https://graph.microsoft.com/.default\"\n",
    "microsoft_graph_url = \"https://graph.microsoft.com/v1.0/sites/\"\n",
    "site_url_second = \":/\"\n",
    "\n",
    "default_catalog =  \"spire_catalog\"\n",
    "default_schema = \"spire_schema\"\n",
    "source_table_name = \"source_data\"\n",
    "TEMP_SOURCE_DATA = \"TEMP_SOURCE_DATA\"\n",
    "sharepoint_permission_table = \"sharepoint_permissions\"\n",
    "\n",
    "# drive_url = f\"https://graph.microsoft.com/v1.0/sites/{site_id}/drives\"\n",
    "drive_url_second = \"/drives\""
   ]
  },
  {
   "cell_type": "code",
   "execution_count": 0,
   "metadata": {
    "application/vnd.databricks.v1+cell": {
     "cellMetadata": {
      "byteLimit": 2048000,
      "rowLimit": 10000
     },
     "inputWidgets": {},
     "nuid": "3b3e23bb-155b-46cd-95b8-97b2cad06fef",
     "showTitle": true,
     "tableResultSettingsMap": {},
     "title": "User permissions"
    }
   },
   "outputs": [],
   "source": [
    "#Variables and links used in other notebooks\n",
    " \n",
    "drive_path = \"/drives/\"\n",
    "root_path= \"/root/children\"\n",
    "item_path = \"/items/\"\n",
    "children_path = \"/children\"\n",
    "content_path = \"/content\"\n",
    "permissions_path = \"/permissions\"\n",
    "\n",
    "#Schema path\n",
    "user_permission_path = \"spire_catalog.spire_schema.sharepoint_permissions\"\n",
    "\n",
    "\n",
    "#Schema file variables\n",
    "COL_FILE_ID = \"file_id\"\n",
    "COL_FILE_LOCATION = \"file_location\"\n",
    "COL_FILE_NAME = \"file_name\"\n",
    "COL_CONTENT = \"content\"\n",
    "COL_CREATED_DATETIME = \"created_datetime\"\n",
    "COL_LAST_MODIFIED_DATETIME = \"last_modified_datetime\"\n",
    "COL_LOAD_DATETIME = \"load_datetime\"\n",
    "COL_CREATED_BY = \"created_by\"\n",
    "COL_CREATED_BY_EMAIL = \"created_by_email\"\n",
    "COL_LAST_MODIFIED_BY = \"last_modified_by\"\n",
    "COL_PERMISSION = \"permission\"\n",
    "COL_USER_ID = \"user_id\"\n",
    "COL_USER_NAME = \"user_name\"\n",
    "\n",
    "\n",
    "#File extension list\n",
    "FILE_LIST = [\"txt\", \"pdf\", \"docx\", \"xlsx\",\"odt&\"]"
   ]
  },
  {
   "cell_type": "code",
   "execution_count": 0,
   "metadata": {
    "application/vnd.databricks.v1+cell": {
     "cellMetadata": {
      "byteLimit": 2048000,
      "rowLimit": 10000
     },
     "inputWidgets": {},
     "nuid": "3d42b6ec-d223-4ece-b9f6-8707dd1239f8",
     "showTitle": true,
     "tableResultSettingsMap": {},
     "title": "Vector table Setup"
    }
   },
   "outputs": [],
   "source": [
    "# default_catalog = \"spire_catalog\"\n",
    "# default_schema = \"spire_schema\"\n",
    "\n",
    "# SourceData_Path = \"/Workspace/Shared/Spire/01-Sharepoint/02-SourceDataFromSharepoint_final\"\n",
    "col_content = \"content\"\n",
    "col_lastModifiedDate = \"last_modified_datetime\"\n",
    "col_filedID = \"file_id\"\n",
    "\n",
    "# source_table = \"source_data\"\n",
    "\n",
    "sink_column = [\"id\", \"content\",\"file_name\",\"file_id\"]"
   ]
  },
  {
   "cell_type": "code",
   "execution_count": 0,
   "metadata": {
    "application/vnd.databricks.v1+cell": {
     "cellMetadata": {
      "byteLimit": 2048000,
      "rowLimit": 10000
     },
     "inputWidgets": {},
     "nuid": "31cbc878-b99c-40b5-b12d-f76ecfebc5b1",
     "showTitle": true,
     "tableResultSettingsMap": {},
     "title": "for 00-init"
    }
   },
   "outputs": [],
   "source": [
    "VECTOR_SEARCH_ENDPOINT_NAME=\"dbdemos_vs_endpoint\"\n",
    "\n",
    "DATABRICKS_SITEMAP_URL = \"https://docs.databricks.com/en/doc-sitemap.xml\"\n",
    "\n",
    "# catalog = \"spire_catalog\"\n",
    "\n",
    "#email = spark.sql('select current_user() as user').collect()[0]['user']\n",
    "#username = email.split('@')[0].replace('.', '_')\n",
    "#dbName = db = f\"dbdemos_rag_{username}\"\n",
    "# dbName = db = \"spire_schema\""
   ]
  },
  {
   "cell_type": "code",
   "execution_count": 0,
   "metadata": {
    "application/vnd.databricks.v1+cell": {
     "cellMetadata": {
      "byteLimit": 2048000,
      "rowLimit": 10000
     },
     "inputWidgets": {},
     "nuid": "3aea7bf0-e734-4adc-8abc-51a23b5ad7b3",
     "showTitle": true,
     "tableResultSettingsMap": {},
     "title": "Model Serving"
    }
   },
   "outputs": [],
   "source": [
    "# vector_search_schema_definition={\n",
    "#             \"chunk_text\": \"content\",  \n",
    "#             \"primary_key\": \"id\",  \n",
    "#             \"file_id\": \"file_id\"    \n",
    "#         }\n",
    "\n",
    "# catlog_name = \"spire_catalog\"\n",
    "# schema_name = \"spire_schema\"\n",
    "# source_data_table = \"source_data_index\" \n",
    "# user_permission_table = \"sharepoint_permissions\"\n",
    "\n",
    "# col_file_id = \"file_id\"\n",
    "\n",
    "vector_embd_columns = [\n",
    "            \"content\",  \n",
    "            \"id\",  \n",
    "            \"file_id\" \n",
    "        ]\n",
    "\n",
    "model_name = \"spire_rag_final\"\n",
    "\n",
    "user_list_name = [\"spire_demo_grp\"]"
   ]
  },
  {
   "cell_type": "code",
   "execution_count": 0,
   "metadata": {
    "application/vnd.databricks.v1+cell": {
     "cellMetadata": {
      "byteLimit": 2048000,
      "rowLimit": 10000
     },
     "inputWidgets": {},
     "nuid": "36d5aa91-69e0-472b-8f18-42b771764676",
     "showTitle": true,
     "tableResultSettingsMap": {},
     "title": "Front End"
    }
   },
   "outputs": [],
   "source": [
    "endpoint = f\"agents_{default_catalog}-{default_schema}-{model_name}\"\n",
    "\n",
    "chatbot_title = \"Databricks Apps Spire demo - Chat with assistant\"\n",
    "\n",
    "application_name = \"spirechatbot\"\n",
    "\n",
    "permission_group_name = 'spire_demo_grp'"
   ]
  }
 ],
 "metadata": {
  "application/vnd.databricks.v1+notebook": {
   "computePreferences": null,
   "dashboards": [],
   "environmentMetadata": {
    "base_environment": "",
    "environment_version": "2"
   },
   "inputWidgetPreferences": null,
   "language": "python",
   "notebookMetadata": {
    "pythonIndentUnit": 4
   },
   "notebookName": "Main_Config",
   "widgets": {}
  },
  "language_info": {
   "name": "python"
  }
 },
 "nbformat": 4,
 "nbformat_minor": 0
}
